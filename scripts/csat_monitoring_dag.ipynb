{
 "cells": [
  {
   "cell_type": "code",
   "execution_count": 1,
   "id": "199782a2-d9fe-40fa-aae4-a6f81e4ae23b",
   "metadata": {},
   "outputs": [
    {
     "name": "stdout",
     "output_type": "stream",
     "text": [
      "⚠️ Low CSAT Days:\n",
      "          date  avg_csat\n",
      "1   02-12-2024  3.993517\n",
      "4   05-12-2024  3.842000\n",
      "5   06-12-2024  3.815574\n",
      "6   07-12-2024  3.723044\n",
      "7   08-12-2024  3.834694\n",
      "8   09-12-2024  3.854430\n",
      "9   10-12-2024  3.756989\n",
      "10  11-12-2024  3.619266\n",
      "11  12-12-2024  3.940659\n",
      "12  13-12-2024  3.688129\n",
      "13  14-12-2024  3.815029\n",
      "14  15-12-2024  3.926978\n",
      "15  16-12-2024  3.822368\n",
      "16  17-12-2024  3.965675\n",
      "\n",
      "⚠️ Driver Complaint Spikes:\n",
      "          date   complaint_type  count\n",
      "26  2024-12-05  driver_behavior      6\n",
      "73  2024-12-13  driver_behavior      6\n"
     ]
    }
   ],
   "source": [
    "import pandas as pd\n",
    "\n",
    "# Load exported CSV\n",
    "daily_csat = pd.read_csv('daily_csat.csv')\n",
    "complaints = pd.read_csv('daily_complaints.csv')\n",
    "\n",
    "# CSAT drop flag\n",
    "low_csat_days = daily_csat[daily_csat['avg_csat'] < 4.0]\n",
    "\n",
    "# Spike in driver complaints\n",
    "driver_issues = complaints[complaints['complaint_type'] == 'driver_behavior']\n",
    "spike_days = driver_issues[driver_issues['count'] > driver_issues['count'].mean() + 1.5 * driver_issues['count'].std()]\n",
    "\n",
    "# Alert-like output\n",
    "print(\"Low CSAT Days:\")\n",
    "print(low_csat_days)\n",
    "\n",
    "print(\"\\n Driver Complaint Spikes:\")\n",
    "print(spike_days)\n"
   ]
  },
  {
   "cell_type": "code",
   "execution_count": 5,
   "id": "dd99e206-1738-4677-86bd-a1c6625ffb7d",
   "metadata": {},
   "outputs": [
    {
     "ename": "ModuleNotFoundError",
     "evalue": "No module named 'airflow'",
     "output_type": "error",
     "traceback": [
      "\u001b[1;31m---------------------------------------------------------------------------\u001b[0m",
      "\u001b[1;31mModuleNotFoundError\u001b[0m                       Traceback (most recent call last)",
      "Cell \u001b[1;32mIn[5], line 3\u001b[0m\n\u001b[0;32m      1\u001b[0m \u001b[38;5;66;03m# airflow/dags/csat_monitoring_dag.py\u001b[39;00m\n\u001b[1;32m----> 3\u001b[0m \u001b[38;5;28;01mfrom\u001b[39;00m \u001b[38;5;21;01mairflow\u001b[39;00m \u001b[38;5;28;01mimport\u001b[39;00m DAG\n\u001b[0;32m      4\u001b[0m \u001b[38;5;28;01mfrom\u001b[39;00m \u001b[38;5;21;01mairflow\u001b[39;00m\u001b[38;5;21;01m.\u001b[39;00m\u001b[38;5;21;01moperators\u001b[39;00m\u001b[38;5;21;01m.\u001b[39;00m\u001b[38;5;21;01mpython\u001b[39;00m \u001b[38;5;28;01mimport\u001b[39;00m PythonOperator\n\u001b[0;32m      5\u001b[0m \u001b[38;5;28;01mfrom\u001b[39;00m \u001b[38;5;21;01mdatetime\u001b[39;00m \u001b[38;5;28;01mimport\u001b[39;00m datetime\n",
      "\u001b[1;31mModuleNotFoundError\u001b[0m: No module named 'airflow'"
     ]
    }
   ],
   "source": [
    "# airflow/dags/csat_monitoring_dag.py\n",
    "\n",
    "from airflow import DAG\n",
    "from airflow.operators.python import PythonOperator\n",
    "from datetime import datetime\n",
    "import subprocess\n",
    "\n",
    "def run_csat_script():\n",
    "    subprocess.run([\"python3\", \"/path/to/csat_monitor.py\"])\n",
    "\n",
    "with DAG(\"csat_daily_monitor\",\n",
    "         start_date=datetime(2024, 12, 1),\n",
    "         schedule_interval=\"@daily\",\n",
    "         catchup=False) as dag:\n",
    "\n",
    "    monitor_task = PythonOperator(\n",
    "        task_id=\"check_csat_drop\",\n",
    "        python_callable=run_csat_script\n",
    "    )\n"
   ]
  },
  {
   "cell_type": "code",
   "execution_count": null,
   "id": "013c7bb9-b5f2-4142-8844-e576b8a723d7",
   "metadata": {},
   "outputs": [],
   "source": []
  }
 ],
 "metadata": {
  "kernelspec": {
   "display_name": "Python 3 (ipykernel)",
   "language": "python",
   "name": "python3"
  },
  "language_info": {
   "codemirror_mode": {
    "name": "ipython",
    "version": 3
   },
   "file_extension": ".py",
   "mimetype": "text/x-python",
   "name": "python",
   "nbconvert_exporter": "python",
   "pygments_lexer": "ipython3",
   "version": "3.12.5"
  }
 },
 "nbformat": 4,
 "nbformat_minor": 5
}
